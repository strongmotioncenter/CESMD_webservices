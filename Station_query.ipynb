{
 "cells": [
  {
   "cell_type": "code",
   "execution_count": 4,
   "id": "d2a04b88-5d16-452e-b57f-f23ab7a38feb",
   "metadata": {},
   "outputs": [],
   "source": [
    "import urllib\n",
    "import json\n",
    "import urllib.request as urllib2\n",
    "import pandas as pd\n",
    "import csv\n",
    "import sys\n",
    "import math\n",
    "import numpy as np\n",
    "\n",
    "%matplotlib inline\n",
    "import matplotlib.pyplot as plt\n",
    "from mpl_toolkits.basemap import Basemap\n",
    "from mpl_toolkits.basemap import Basemap\n",
    "import matplotlib.pyplot as plt\n",
    "from matplotlib.patches import Polygon\n",
    "\n",
    "import colorama\n",
    "from colorama import Fore\n",
    "\n",
    "import folium\n",
    "from folium import Choropleth, Circle, Marker\n",
    "from folium.plugins import HeatMap, MarkerCluster"
   ]
  },
  {
   "cell_type": "markdown",
   "id": "88a634f8-56b1-446c-b1c2-b8f727edbdbc",
   "metadata": {},
   "source": [
    "# CESMD USER QUERY NOTEBOOK (Station)\n",
    "### - **Default format is CSV (editable**)"
   ]
  },
  {
   "cell_type": "markdown",
   "id": "edb967f7-b83b-4931-9fc4-d6eac7ff7466",
   "metadata": {},
   "source": [
    "# Part2: Station\n",
    "### Possible input:\n",
    "- **Station Name**:\n",
    "\n",
    "- Network: (default is any)\n",
    "\n",
    "| Network Code | Network Detail ||Network Code | Network Detail |\n",
    "| :- | -: || -: | -: | \n",
    "|08 | Hokkaido University|\t|AA | Anchorage Strong Motion Network|\n",
    "|AK | University of Alaska Geophysical Institute|\t|AZ | Anza|\n",
    "|BG | Berkeley Geysers Network|\t|BK | Berkeley Digital Seismic Network|\n",
    "|C1 | Red Sismologica Nacional|\t|CB | Institute of Geophysics China Earthquake Administration (IGP)|\n",
    "|CE | California Strong Motion Instrumentation Program|\t|CF | Red Acelerografica Nacional de la Comision Federal de Electr|\t|CI | California Institute of Technology|\n",
    "|CU | Albuquerque Seismological Laboratory|\t|C_ | C&GS|\n",
    "|EC | Ecuador Seismic Network|\t|ES | Spanish Digital Seismic Network|\n",
    "|GI | Red Sismologica Nacional Guatemala|\t|G_ | GEOSCOPE|\n",
    "|HV | Hawaiian Volcano Observatory Network|\t|IT | Italian Strong Motion Network|\n",
    "|IU | GSN  IRIS/USGS|\t|IV | Istituto Nazionale di Geofisica e Vulcanologia|\n",
    "|JP | BRI|\t|JP | ERI|\n",
    "|JP | KIKNET|\t|JP | KNET|\n",
    "|JP | PARI|\t|LA | Los Angeles Basin Seismic Network|\n",
    "|MN | Mediterranean Very Broadband Seismographic Network|\t|NC | USGS Northern California Regional Network|\n",
    "|ND | New Caledonia Broadband Seismic Network (SismoCal)|\t|NM | New Madrid Seismic Network|\n",
    "|NN | Nevada Seismic Network|\t|NP | National Strong Motion Project|\n",
    "|NZ|\t|\t|OK | Oklahoma Geological Survey|\n",
    "|OV | Observatorio Vulcanologico y Sismologico de Costa Rica|\t|PA | Observatorio Sismico del Occidente de Panamá|\n",
    "|PG|\t|\t|PR | Puerto Rico Strong Motion Program (PRSMP)|\n",
    "|TO | Caltech Tectonic Observatory|\t|TU | Turkey Strong Motion Network|\n",
    "|TU | National Seismic Network of Turkey|\t|US | National Earthquake Information Center|\n",
    "|UW | PNSN|\t|WR | California Department of Water Resources|\n",
    "|_C | NMI|\t|_C|\t|\n",
    "|_C | University of Chile Santiago|\t|_C | Chilean National Seismic Network|\n",
    "\n",
    "\n",
    "- Station Type:\n",
    "| Station Code | Station Detail |\n",
    "| :- | -: |\n",
    "|A|\"Array\"|  \n",
    "|G|\"Ground\"|  \n",
    "|B|\"Building\"|  \n",
    "|Br|\"Bridge\"|  \n",
    "|D|\"Dam\"|  \n",
    "|T|\"Tunnel\"|  \n",
    "|W|\"Wharf\"|  \n",
    "|O|\"Other\"|\n",
    "\n",
    "\n",
    "- VS30: \n",
    "    - &Vs30Method=true\n",
    "    - vs30min=10&vs30max=30&Vs30Method=true\n",
    "- Location:\n",
    "    - Coordinates:\n",
    "                min and max Latitude and Longtitude \n",
    "    - Circle: \n",
    "                center point (lat, long) and radius in unit (km)"
   ]
  },
  {
   "cell_type": "code",
   "execution_count": 5,
   "id": "7fc555b1-16e7-4f2c-a53d-0ce2d9b21857",
   "metadata": {},
   "outputs": [],
   "source": [
    "net = ['08','ak','c1','ce','cu','ec', 'gi','hv','iu','jp','mn','nd','nn','nz','ov','pg','to','uw','_c','aa','az','bk','cb','cf','c_','es','g_','it','iv','la','nc','nm','np','ok','pa','pr','tu','us','wr']\n",
    "sta = ['a','g','b','br','d','t','w','o']\n",
    "net_code = sorted([each_string.upper() for each_string in net])\n",
    "sta_code = sorted([each_string.upper() for each_string in sta])\n",
    "\n",
    "net = ['08','ak','c1','ce','cu','ec', 'gi','hv','iu','jp','mn','nd','nn','nz','ov','pg','to','uw','_c','aa','az','bk','cb','cf','c_','es','g_','it','iv','la','nc','nm','np','ok','pa','pr','tu','us','wr']\n",
    "sta = ['a','g','b','br','d','t','w','o']\n",
    "net_code = sorted([each_string.upper() for each_string in net])\n",
    "sta_code = sorted([each_string.upper() for each_string in sta])"
   ]
  },
  {
   "cell_type": "code",
   "execution_count": 6,
   "id": "2057410c-6dcc-4861-a944-980e1cda1fea",
   "metadata": {},
   "outputs": [],
   "source": [
    "# By Circle\n",
    "def earthquake_country_circle(url):\n",
    "    latitue = input('Latitude at circle center')  \n",
    "    longitude = input('Longitude at circle center')\n",
    "    radius = input ('Radius(km) from circle center')\n",
    "    if  latitue and longitude and radius: \n",
    "        url = url+f'&lat={latitue}&lon={longitude}&rad={radius}'\n",
    "        print(url)\n",
    "    else:\n",
    "        print(Fore.RED + 'You may missing at least one parameter, the url will not contain the circle query')\n",
    "        print(url)\n",
    "    return url\n",
    "\n",
    "\n",
    "\n",
    "\n",
    "# By Coordinates\n",
    "def earthquake_Coordinates(url):\n",
    "    minlat=input('Min Latitude') \n",
    "    maxlat=input('Max Latitude') \n",
    "    minlon=input('Min Longitude')\n",
    "    maxlon=input('Max Longitude')\n",
    "    \n",
    "    if  minlat and maxlat and minlon and maxlon: \n",
    "        url = url +f'&minlat={minlat}&maxlat={maxlat}&minlon={minlon}&maxlon={maxlon}'\n",
    "        print(url)\n",
    "    else:\n",
    "        print(Fore.RED + 'You may missing at least one parameter, the url will not contain the coordinates query')\n",
    "        print(url)\n",
    "    return url"
   ]
  },
  {
   "cell_type": "code",
   "execution_count": 16,
   "id": "1fee152d-5f1f-4752-a423-01bd4d4a3c0e",
   "metadata": {},
   "outputs": [],
   "source": [
    "# earthquake_country_circle(url):\n",
    "# earthquake_Coordinates(url):\n",
    "# Start with create the query url\n",
    "\n",
    "def station_parameter(url):\n",
    "    v30 = input('Do you want to enter VS30? (yes or no)')\n",
    "    if v30 == 'yes':\n",
    "        url = url+'&Vs30Method=true'\n",
    "        min_v30 = input('Do you want to enter min VS30?')\n",
    "        max_v30 = input('Do you want to enter max VS30?')\n",
    "        if min_v30:\n",
    "            url = url+'&vs30min='+min_v30\n",
    "        if max_v30:\n",
    "            url = url+'&vs30min='+max_v30 \n",
    "        \n",
    "    print(\"For station code, you can enter multiple code, sperate then by ','\")\n",
    "    print('Netcode:\\n',net_code )\n",
    "    network = input('Please enter the network code: ')\n",
    "    a = [item.upper() for item in network.split(',')]\n",
    "    check =  set(a).issubset(net_code)\n",
    " \n",
    "    if check is True:\n",
    "        url = url + f'&netid={network.upper()}'   \n",
    "    else :\n",
    "        for i in network.split(','):\n",
    "            if i.upper() not in net_code:\n",
    "                print(i,'is not in Database. The network code input will be ignored')\n",
    "    print(check,url)\n",
    "\n",
    "    print('Station Code\\n', sta_code)\n",
    "    station = input('Please enter a station code: ')\n",
    "    if station.upper() in sta_code:\n",
    "            url = url + f'&sttype={station.upper()}'\n",
    "    else:\n",
    "        print(station,'is not in Database. The staion code input will be ignored')\n",
    "\n",
    "    station_name = input('Please enter a station name: ')\n",
    "    if station_name:\n",
    "        url = url + f'&stname={station_name}'\n",
    "    print(url)\n",
    "    return url\n",
    "\n",
    "\n",
    "\n",
    "def station_query(url):\n",
    "    print(\"For the following question, please enter follow the instructions or skip by push the 'return' button. Thanks!\\n\")\n",
    "    station_name = input ('Do yo have station code/id? (Please enter yes or no)')\n",
    "    if  station_name.lower() == 'yes':\n",
    "        sta_id = input('Station code/id:')\n",
    "        url = url +f'&stcode={sta_id}'\n",
    "        print(url)\n",
    "    else:\n",
    "        query = input('Do you want to query by parameters, location, or both?   (parameters/location/both)')\n",
    "        if query.lower() == 'parameters':\n",
    "            url = station_parameter(url)\n",
    "        elif query.lower() == 'location':\n",
    "            loc_type= input('Do you want to query by circle or coordination?')\n",
    "            if loc_type.lower() == 'circle':\n",
    "                url =  earthquake_country_circle(url) # Call from Part 1. \n",
    "            elif loc_type.lower() == 'coordination':\n",
    "                url = earthquake_Coordinates(url) # Call from Part 1. \n",
    "            else:\n",
    "                print(Fore.RED +'Unknow input', url)\n",
    "        elif query.lower() == 'both':\n",
    "            url = station_parameter(url)\n",
    "            loc_type= input('Do you want to query by circle or coordination?')\n",
    "            if loc_type.lower() == 'country':\n",
    "                url = earthquake_country(url) # Call from Part 1. \n",
    "            elif loc_type.lower() == 'circle':\n",
    "                url =  earthquake_country_circle(url) # Call from Part 1. \n",
    "            elif loc_type.lower() == 'coordination':\n",
    "                url = earthquake_Coordinates(url)\n",
    "            else:\n",
    "                print(Fore.RED +'Unknow input, try again',url)\n",
    "        else:\n",
    "            print('Unknow input, try again')\n",
    "            \n",
    "    if url == 'https://www.strongmotioncenter.org/wserv/stations/query?&format=csv&nodata=404':\n",
    "        print('You must enter at least one parameter! Try Again.')\n",
    "            \n",
    "    return url\n",
    "\n",
    "\n",
    "def sta_open_url(url):\n",
    "    data = pd.DataFrame()\n",
    "    try:\n",
    "        data = pd.read_csv(url)\n",
    "\n",
    "    except:\n",
    "        print('URL show Eroor, please check inputs')\n",
    "    return data"
   ]
  },
  {
   "cell_type": "code",
   "execution_count": 20,
   "id": "87ee0be6-0b2f-48b2-9445-5a7405bfdff1",
   "metadata": {},
   "outputs": [],
   "source": [
    "def plot_map(data,lat_0=38.1,lon_0=-118,zoom_start = 3,lon='Longitude',lat='Latitude'):\n",
    "    \"\"\"\n",
    "    data: the dataframe\n",
    "    lat_0,lon_0, the center of the map\n",
    "    zoom_start\n",
    "    lon & lat: the columns name for longtitude and latitude\n",
    "    \"\"\"\n",
    "    # Create a map\n",
    "    m_1 = folium.Map(location=[lat_0,lon_0], tiles='openstreetmap', zoom_start=3)\n",
    "    # Add points to the map\n",
    "    mc = MarkerCluster()\n",
    "    for idx, row in data.iterrows():\n",
    "        if not math.isnan(row[lon]) and not math.isnan(row[lat]):\n",
    "            mc.add_child(Marker([row[lat], row[lon]]))\n",
    "    m_1.add_child(mc)\n",
    "\n",
    "    # Display the map\n",
    "    return m_1"
   ]
  },
  {
   "cell_type": "code",
   "execution_count": 19,
   "id": "884bd219-cec0-468c-964f-cc95bc1e4b14",
   "metadata": {},
   "outputs": [
    {
     "name": "stdout",
     "output_type": "stream",
     "text": [
      "For the following question, please enter follow the instructions or skip by push the 'return' button. Thanks!\n",
      "\n"
     ]
    },
    {
     "name": "stdin",
     "output_type": "stream",
     "text": [
      "Do yo have station code/id? (Please enter yes or no) yes\n"
     ]
    },
    {
     "name": "stdout",
     "output_type": "stream",
     "text": [
      "yes\n"
     ]
    },
    {
     "name": "stdin",
     "output_type": "stream",
     "text": [
      "Station code/id: np5082\n"
     ]
    },
    {
     "name": "stdout",
     "output_type": "stream",
     "text": [
      "https://www.strongmotioncenter.org/wserv/stations/query?&format=csv&nodata=404&stcode=np5082\n"
     ]
    },
    {
     "data": {
      "text/html": [
       "<div>\n",
       "<style scoped>\n",
       "    .dataframe tbody tr th:only-of-type {\n",
       "        vertical-align: middle;\n",
       "    }\n",
       "\n",
       "    .dataframe tbody tr th {\n",
       "        vertical-align: top;\n",
       "    }\n",
       "\n",
       "    .dataframe thead th {\n",
       "        text-align: right;\n",
       "    }\n",
       "</style>\n",
       "<table border=\"1\" class=\"dataframe\">\n",
       "  <thead>\n",
       "    <tr style=\"text-align: right;\">\n",
       "      <th></th>\n",
       "      <th>Code</th>\n",
       "      <th>Network</th>\n",
       "      <th>Status</th>\n",
       "      <th>Channels</th>\n",
       "      <th>Recorder_type</th>\n",
       "      <th>NumRecorders</th>\n",
       "      <th>Comm_code</th>\n",
       "      <th>Crl_orientation</th>\n",
       "      <th>Name</th>\n",
       "      <th>Location</th>\n",
       "      <th>...</th>\n",
       "      <th>Vs30_info</th>\n",
       "      <th>Vs30_method</th>\n",
       "      <th>Vs30_reference</th>\n",
       "      <th>Bldtype</th>\n",
       "      <th>Bldheight</th>\n",
       "      <th>Station_page</th>\n",
       "      <th>Geo_type</th>\n",
       "      <th>Coord_long</th>\n",
       "      <th>Coord_lat</th>\n",
       "      <th>Id</th>\n",
       "    </tr>\n",
       "  </thead>\n",
       "  <tbody>\n",
       "    <tr>\n",
       "      <th>0</th>\n",
       "      <td>5082</td>\n",
       "      <td>NP</td>\n",
       "      <td>Active</td>\n",
       "      <td>24</td>\n",
       "      <td>C</td>\n",
       "      <td>NaN</td>\n",
       "      <td>NaN</td>\n",
       "      <td>?</td>\n",
       "      <td>CA Los Angeles; Wadsworth VAMC B. 500</td>\n",
       "      <td>NaN</td>\n",
       "      <td>...</td>\n",
       "      <td>NaN</td>\n",
       "      <td>NaN</td>\n",
       "      <td>NaN</td>\n",
       "      <td>NaN</td>\n",
       "      <td>NaN</td>\n",
       "      <td>https://strongmotioncenter.org/cgi-bin/CESMD/s...</td>\n",
       "      <td>Point</td>\n",
       "      <td>-118.45253</td>\n",
       "      <td>34.05271</td>\n",
       "      <td>NP5082</td>\n",
       "    </tr>\n",
       "  </tbody>\n",
       "</table>\n",
       "<p>1 rows × 26 columns</p>\n",
       "</div>"
      ],
      "text/plain": [
       "   Code Network  Status  Channels Recorder_type  NumRecorders  Comm_code  \\\n",
       "0  5082      NP  Active        24             C           NaN        NaN   \n",
       "\n",
       "  Crl_orientation                                   Name  Location  ...  \\\n",
       "0               ?  CA Los Angeles; Wadsworth VAMC B. 500       NaN  ...   \n",
       "\n",
       "  Vs30_info  Vs30_method Vs30_reference  Bldtype  Bldheight  \\\n",
       "0       NaN          NaN            NaN      NaN        NaN   \n",
       "\n",
       "                                        Station_page  Geo_type  Coord_long  \\\n",
       "0  https://strongmotioncenter.org/cgi-bin/CESMD/s...     Point  -118.45253   \n",
       "\n",
       "   Coord_lat      Id  \n",
       "0   34.05271  NP5082  \n",
       "\n",
       "[1 rows x 26 columns]"
      ]
     },
     "execution_count": 19,
     "metadata": {},
     "output_type": "execute_result"
    }
   ],
   "source": [
    "url = 'https://www.strongmotioncenter.org/wserv/stations/query?&format=csv&nodata=404'\n",
    "sta = station_query(url)\n",
    "sta_data = sta_open_url(sta)\n",
    "sta_data.head()"
   ]
  },
  {
   "cell_type": "code",
   "execution_count": 21,
   "id": "61638eab-7730-4ade-a78d-4b00afc5f476",
   "metadata": {},
   "outputs": [
    {
     "data": {
      "text/html": [
       "<div style=\"width:100%;\"><div style=\"position:relative;width:100%;height:0;padding-bottom:60%;\"><span style=\"color:#565656\">Make this Notebook Trusted to load map: File -> Trust Notebook</span><iframe src=\"about:blank\" style=\"position:absolute;width:100%;height:100%;left:0;top:0;border:none !important;\" data-html=%3C%21DOCTYPE%20html%3E%0A%3Chead%3E%20%20%20%20%0A%20%20%20%20%3Cmeta%20http-equiv%3D%22content-type%22%20content%3D%22text/html%3B%20charset%3DUTF-8%22%20/%3E%0A%20%20%20%20%0A%20%20%20%20%20%20%20%20%3Cscript%3E%0A%20%20%20%20%20%20%20%20%20%20%20%20L_NO_TOUCH%20%3D%20false%3B%0A%20%20%20%20%20%20%20%20%20%20%20%20L_DISABLE_3D%20%3D%20false%3B%0A%20%20%20%20%20%20%20%20%3C/script%3E%0A%20%20%20%20%0A%20%20%20%20%3Cstyle%3Ehtml%2C%20body%20%7Bwidth%3A%20100%25%3Bheight%3A%20100%25%3Bmargin%3A%200%3Bpadding%3A%200%3B%7D%3C/style%3E%0A%20%20%20%20%3Cstyle%3E%23map%20%7Bposition%3Aabsolute%3Btop%3A0%3Bbottom%3A0%3Bright%3A0%3Bleft%3A0%3B%7D%3C/style%3E%0A%20%20%20%20%3Cscript%20src%3D%22https%3A//cdn.jsdelivr.net/npm/leaflet%401.6.0/dist/leaflet.js%22%3E%3C/script%3E%0A%20%20%20%20%3Cscript%20src%3D%22https%3A//code.jquery.com/jquery-1.12.4.min.js%22%3E%3C/script%3E%0A%20%20%20%20%3Cscript%20src%3D%22https%3A//maxcdn.bootstrapcdn.com/bootstrap/3.2.0/js/bootstrap.min.js%22%3E%3C/script%3E%0A%20%20%20%20%3Cscript%20src%3D%22https%3A//cdnjs.cloudflare.com/ajax/libs/Leaflet.awesome-markers/2.0.2/leaflet.awesome-markers.js%22%3E%3C/script%3E%0A%20%20%20%20%3Clink%20rel%3D%22stylesheet%22%20href%3D%22https%3A//cdn.jsdelivr.net/npm/leaflet%401.6.0/dist/leaflet.css%22/%3E%0A%20%20%20%20%3Clink%20rel%3D%22stylesheet%22%20href%3D%22https%3A//maxcdn.bootstrapcdn.com/bootstrap/3.2.0/css/bootstrap.min.css%22/%3E%0A%20%20%20%20%3Clink%20rel%3D%22stylesheet%22%20href%3D%22https%3A//maxcdn.bootstrapcdn.com/bootstrap/3.2.0/css/bootstrap-theme.min.css%22/%3E%0A%20%20%20%20%3Clink%20rel%3D%22stylesheet%22%20href%3D%22https%3A//maxcdn.bootstrapcdn.com/font-awesome/4.6.3/css/font-awesome.min.css%22/%3E%0A%20%20%20%20%3Clink%20rel%3D%22stylesheet%22%20href%3D%22https%3A//cdnjs.cloudflare.com/ajax/libs/Leaflet.awesome-markers/2.0.2/leaflet.awesome-markers.css%22/%3E%0A%20%20%20%20%3Clink%20rel%3D%22stylesheet%22%20href%3D%22https%3A//cdn.jsdelivr.net/gh/python-visualization/folium/folium/templates/leaflet.awesome.rotate.min.css%22/%3E%0A%20%20%20%20%0A%20%20%20%20%20%20%20%20%20%20%20%20%3Cmeta%20name%3D%22viewport%22%20content%3D%22width%3Ddevice-width%2C%0A%20%20%20%20%20%20%20%20%20%20%20%20%20%20%20%20initial-scale%3D1.0%2C%20maximum-scale%3D1.0%2C%20user-scalable%3Dno%22%20/%3E%0A%20%20%20%20%20%20%20%20%20%20%20%20%3Cstyle%3E%0A%20%20%20%20%20%20%20%20%20%20%20%20%20%20%20%20%23map_bcf68d6afbc249278dd900add5196c51%20%7B%0A%20%20%20%20%20%20%20%20%20%20%20%20%20%20%20%20%20%20%20%20position%3A%20relative%3B%0A%20%20%20%20%20%20%20%20%20%20%20%20%20%20%20%20%20%20%20%20width%3A%20100.0%25%3B%0A%20%20%20%20%20%20%20%20%20%20%20%20%20%20%20%20%20%20%20%20height%3A%20100.0%25%3B%0A%20%20%20%20%20%20%20%20%20%20%20%20%20%20%20%20%20%20%20%20left%3A%200.0%25%3B%0A%20%20%20%20%20%20%20%20%20%20%20%20%20%20%20%20%20%20%20%20top%3A%200.0%25%3B%0A%20%20%20%20%20%20%20%20%20%20%20%20%20%20%20%20%7D%0A%20%20%20%20%20%20%20%20%20%20%20%20%3C/style%3E%0A%20%20%20%20%20%20%20%20%0A%20%20%20%20%3Cscript%20src%3D%22https%3A//cdnjs.cloudflare.com/ajax/libs/leaflet.markercluster/1.1.0/leaflet.markercluster.js%22%3E%3C/script%3E%0A%20%20%20%20%3Clink%20rel%3D%22stylesheet%22%20href%3D%22https%3A//cdnjs.cloudflare.com/ajax/libs/leaflet.markercluster/1.1.0/MarkerCluster.css%22/%3E%0A%20%20%20%20%3Clink%20rel%3D%22stylesheet%22%20href%3D%22https%3A//cdnjs.cloudflare.com/ajax/libs/leaflet.markercluster/1.1.0/MarkerCluster.Default.css%22/%3E%0A%3C/head%3E%0A%3Cbody%3E%20%20%20%20%0A%20%20%20%20%0A%20%20%20%20%20%20%20%20%20%20%20%20%3Cdiv%20class%3D%22folium-map%22%20id%3D%22map_bcf68d6afbc249278dd900add5196c51%22%20%3E%3C/div%3E%0A%20%20%20%20%20%20%20%20%0A%3C/body%3E%0A%3Cscript%3E%20%20%20%20%0A%20%20%20%20%0A%20%20%20%20%20%20%20%20%20%20%20%20var%20map_bcf68d6afbc249278dd900add5196c51%20%3D%20L.map%28%0A%20%20%20%20%20%20%20%20%20%20%20%20%20%20%20%20%22map_bcf68d6afbc249278dd900add5196c51%22%2C%0A%20%20%20%20%20%20%20%20%20%20%20%20%20%20%20%20%7B%0A%20%20%20%20%20%20%20%20%20%20%20%20%20%20%20%20%20%20%20%20center%3A%20%5B38.1%2C%20-118.0%5D%2C%0A%20%20%20%20%20%20%20%20%20%20%20%20%20%20%20%20%20%20%20%20crs%3A%20L.CRS.EPSG3857%2C%0A%20%20%20%20%20%20%20%20%20%20%20%20%20%20%20%20%20%20%20%20zoom%3A%203%2C%0A%20%20%20%20%20%20%20%20%20%20%20%20%20%20%20%20%20%20%20%20zoomControl%3A%20true%2C%0A%20%20%20%20%20%20%20%20%20%20%20%20%20%20%20%20%20%20%20%20preferCanvas%3A%20false%2C%0A%20%20%20%20%20%20%20%20%20%20%20%20%20%20%20%20%7D%0A%20%20%20%20%20%20%20%20%20%20%20%20%29%3B%0A%0A%20%20%20%20%20%20%20%20%20%20%20%20%0A%0A%20%20%20%20%20%20%20%20%0A%20%20%20%20%0A%20%20%20%20%20%20%20%20%20%20%20%20var%20tile_layer_ac7a04e156204ff1a8816e37dd9c5012%20%3D%20L.tileLayer%28%0A%20%20%20%20%20%20%20%20%20%20%20%20%20%20%20%20%22https%3A//%7Bs%7D.tile.openstreetmap.org/%7Bz%7D/%7Bx%7D/%7By%7D.png%22%2C%0A%20%20%20%20%20%20%20%20%20%20%20%20%20%20%20%20%7B%22attribution%22%3A%20%22Data%20by%20%5Cu0026copy%3B%20%5Cu003ca%20href%3D%5C%22http%3A//openstreetmap.org%5C%22%5Cu003eOpenStreetMap%5Cu003c/a%5Cu003e%2C%20under%20%5Cu003ca%20href%3D%5C%22http%3A//www.openstreetmap.org/copyright%5C%22%5Cu003eODbL%5Cu003c/a%5Cu003e.%22%2C%20%22detectRetina%22%3A%20false%2C%20%22maxNativeZoom%22%3A%2018%2C%20%22maxZoom%22%3A%2018%2C%20%22minZoom%22%3A%200%2C%20%22noWrap%22%3A%20false%2C%20%22opacity%22%3A%201%2C%20%22subdomains%22%3A%20%22abc%22%2C%20%22tms%22%3A%20false%7D%0A%20%20%20%20%20%20%20%20%20%20%20%20%29.addTo%28map_bcf68d6afbc249278dd900add5196c51%29%3B%0A%20%20%20%20%20%20%20%20%0A%20%20%20%20%0A%20%20%20%20%20%20%20%20%20%20%20%20var%20marker_cluster_689ebb4c348d42a9ac0ee9c3d503d33b%20%3D%20L.markerClusterGroup%28%0A%20%20%20%20%20%20%20%20%20%20%20%20%20%20%20%20%7B%7D%0A%20%20%20%20%20%20%20%20%20%20%20%20%29%3B%0A%20%20%20%20%20%20%20%20%20%20%20%20map_bcf68d6afbc249278dd900add5196c51.addLayer%28marker_cluster_689ebb4c348d42a9ac0ee9c3d503d33b%29%3B%0A%20%20%20%20%20%20%20%20%0A%20%20%20%20%0A%20%20%20%20%20%20%20%20%20%20%20%20var%20marker_5d43175fc37c409fb6a4f58a7756a1a2%20%3D%20L.marker%28%0A%20%20%20%20%20%20%20%20%20%20%20%20%20%20%20%20%5B34.05271%2C%20-118.45253%5D%2C%0A%20%20%20%20%20%20%20%20%20%20%20%20%20%20%20%20%7B%7D%0A%20%20%20%20%20%20%20%20%20%20%20%20%29.addTo%28marker_cluster_689ebb4c348d42a9ac0ee9c3d503d33b%29%3B%0A%20%20%20%20%20%20%20%20%0A%3C/script%3E onload=\"this.contentDocument.open();this.contentDocument.write(    decodeURIComponent(this.getAttribute('data-html')));this.contentDocument.close();\" allowfullscreen webkitallowfullscreen mozallowfullscreen></iframe></div></div>"
      ],
      "text/plain": [
       "<folium.folium.Map at 0x18eebc34700>"
      ]
     },
     "execution_count": 21,
     "metadata": {},
     "output_type": "execute_result"
    }
   ],
   "source": [
    "# station map\n",
    "m_2 = plot_map(sta_data,lat_0=38.1,lon_0=-118,zoom_start = 3,lon='Coord_long',lat='Coord_lat')\n",
    "m_2"
   ]
  },
  {
   "cell_type": "code",
   "execution_count": 22,
   "id": "dd43896f-2368-4d72-a3b4-f322971dd33f",
   "metadata": {},
   "outputs": [
    {
     "data": {
      "text/plain": [
       "Index(['Code', 'Network', 'Status', 'Channels', 'Recorder_type',\n",
       "       'NumRecorders', 'Comm_code', 'Crl_orientation', 'Name', 'Location',\n",
       "       'Effdate', 'Elevation', 'Type_P', 'Vs30', 'Geology', 'Siteclass',\n",
       "       'Vs30_info', 'Vs30_method', 'Vs30_reference', 'Bldtype', 'Bldheight',\n",
       "       'Station_page', 'Geo_type', 'Coord_long', 'Coord_lat', 'Id'],\n",
       "      dtype='object')"
      ]
     },
     "execution_count": 22,
     "metadata": {},
     "output_type": "execute_result"
    }
   ],
   "source": [
    "sta_data.columns"
   ]
  },
  {
   "cell_type": "code",
   "execution_count": 26,
   "id": "de113e84-878a-4af0-9bf3-be5ad9be790e",
   "metadata": {},
   "outputs": [
    {
     "name": "stdout",
     "output_type": "stream",
     "text": [
      "NP 5082 https://strongmotioncenter.org/cgi-bin/CESMD/stationhtml.pl?stationID=NP5082&network=NSMP\n"
     ]
    }
   ],
   "source": [
    "# CESMD Station page\n",
    "for i in sta_data.index:\n",
    "    print(sta_data['Network'][i],sta_data['Code'][i],sta_data['Station_page'][i])"
   ]
  },
  {
   "cell_type": "markdown",
   "id": "42ca9017-82d6-4536-8af0-ddc11af6b2ac",
   "metadata": {},
   "source": [
    "# Station Waveform"
   ]
  },
  {
   "cell_type": "code",
   "execution_count": 1,
   "id": "4d2b9ba7-67e5-43c3-86e4-995ca5d1a434",
   "metadata": {},
   "outputs": [],
   "source": [
    "import obspy as ob\n",
    "import numpy as np\n",
    "from obspy.clients.fdsn import Client\n",
    "import matplotlib.pyplot as plt\n",
    "from datetime import datetime, timedelta\n",
    "from obspy import UTCDateTime\n",
    "\n",
    "%matplotlib inline\n"
   ]
  },
  {
   "cell_type": "markdown",
   "id": "320eb58d-7de0-44fe-baa2-55af8078a552",
   "metadata": {},
   "source": [
    "#### https://ds.iris.edu/ds/nodes/dmc/tools/event/11230644\n",
    "- Obspy clients are here https://docs.obspy.org/master/packages/obspy.clients.fdsn.html"
   ]
  },
  {
   "cell_type": "code",
   "execution_count": 2,
   "id": "ea3e3e2c-9ee0-4208-b2ef-44611f705cca",
   "metadata": {},
   "outputs": [],
   "source": [
    "client = Client(\"NCEDC\")"
   ]
  },
  {
   "cell_type": "code",
   "execution_count": 3,
   "id": "7d211f5c-ef96-4732-87f8-59b2da8dfdd6",
   "metadata": {},
   "outputs": [
    {
     "name": "stdin",
     "output_type": "stream",
     "text": [
      "Please enter eventid (without netcode: 73626591\n"
     ]
    }
   ],
   "source": [
    "EVIDstr=input(\"Please enter eventid (without netcode:\")\n",
    "EVID = int(EVIDstr)\n",
    "#73626591"
   ]
  },
  {
   "cell_type": "code",
   "execution_count": 4,
   "id": "94d53847-5f59-444e-8bd0-1170f04b0080",
   "metadata": {},
   "outputs": [
    {
     "data": {
      "text/plain": [
       "1 Event(s) in Catalog:\n",
       "2021-09-19T00:09:14.810000Z | +37.728, -121.991 | 3.1 Mw | manual"
      ]
     },
     "execution_count": 4,
     "metadata": {},
     "output_type": "execute_result"
    }
   ],
   "source": [
    "events = client.get_events(eventid=EVID)\n",
    "events"
   ]
  },
  {
   "cell_type": "code",
   "execution_count": 5,
   "id": "a6e4515e-3229-4d6b-8eb4-d1a438a7ef45",
   "metadata": {},
   "outputs": [],
   "source": [
    "Netcode =\"NC\"\n",
    "Station = \"CYD\""
   ]
  },
  {
   "cell_type": "code",
   "execution_count": 6,
   "id": "5ffbd26a-50d2-4520-9b5d-8991a660a2d2",
   "metadata": {},
   "outputs": [],
   "source": [
    "elat = events[0].origins[0].latitude\n",
    "elon = events[0].origins[0].longitude\n",
    "estart = events[0].origins[0].time"
   ]
  },
  {
   "cell_type": "code",
   "execution_count": 7,
   "id": "9f321a81-3f29-4bc9-8721-b6c24ac0354f",
   "metadata": {},
   "outputs": [],
   "source": [
    "client = Client(\"NCEDC\")"
   ]
  },
  {
   "cell_type": "code",
   "execution_count": 8,
   "id": "4f4a8279-1284-49c1-95c2-c62587279fba",
   "metadata": {},
   "outputs": [],
   "source": [
    "bulk_request = [(Netcode, Station, \"*\", \"H**\", estart, estart+ 180)]\n",
    "stations = client.get_stations_bulk(bulk_request, level='channel')\n",
    "waveforms = client.get_waveforms_bulk(bulk_request)"
   ]
  },
  {
   "cell_type": "code",
   "execution_count": 9,
   "id": "3711c11e-bf26-4c0c-a4c3-75d0eb04cdbe",
   "metadata": {},
   "outputs": [],
   "source": [
    "bulk_request = [(Netcode, Station, \"*\", \"H**\", estart, estart+ 180)]\n",
    "stations = client.get_stations_bulk(bulk_request, level='channel')\n",
    "waveforms = client.get_waveforms_bulk(bulk_request)"
   ]
  },
  {
   "cell_type": "code",
   "execution_count": 10,
   "id": "e3fc365b-0b40-4bce-b72b-393f86594557",
   "metadata": {},
   "outputs": [
    {
     "name": "stdout",
     "output_type": "stream",
     "text": [
      "Inventory created at 2022-06-13T14:27:03.000000Z\n",
      "\tCreated by: NCEDC WEB SERVICE: fdsnws-station | version: 1.1\n",
      "\t\t    http://service.ncedc.org/fdsnws/station/1/query?net=NC&sta=CYD&cha=...\n",
      "\tSending institution: NCEDC (NCEDC)\n",
      "\tContains:\n",
      "\t\tNetworks (1):\n",
      "\t\t\tNC\n",
      "\t\tStations (1):\n",
      "\t\t\tNC.CYD (Coyote Hills #2)\n",
      "\t\tChannels (0):\n",
      "\n"
     ]
    }
   ],
   "source": [
    "inv = client.get_stations_bulk(bulk_request)\n",
    "print(inv)"
   ]
  },
  {
   "cell_type": "code",
   "execution_count": 11,
   "id": "71753e96-b541-40a9-8de5-97e30d184879",
   "metadata": {},
   "outputs": [
    {
     "data": {
      "image/png": "[encoded data removed]",
      "text/plain": [
       "<Figure size 800x750 with 3 Axes>"
      ]
     },
     "metadata": {
      "needs_background": "light"
     },
     "output_type": "display_data"
    }
   ],
   "source": [
    "waveforms.plot()\n",
    "waveforms.plot(outfile=Netcode+'.'+Station+'_nc'+EVIDstr+'.jpg')\n",
    "waveforms.write(Netcode+'.'+Station+'_nc'+EVIDstr+'.mseed', format='mseed') \n"
   ]
  },
  {
   "cell_type": "code",
   "execution_count": null,
   "id": "44819482-1bcf-4595-9337-7f04061d7636",
   "metadata": {},
   "outputs": [],
   "source": []
  }
 ],
 "metadata": {
  "kernelspec": {
   "display_name": "Python 3 (ipykernel)",
   "language": "python",
   "name": "python3"
  },
  "language_info": {
   "codemirror_mode": {
    "name": "ipython",
    "version": 3
   },
   "file_extension": ".py",
   "mimetype": "text/x-python",
   "name": "python",
   "nbconvert_exporter": "python",
   "pygments_lexer": "ipython3",
   "version": "3.8.10"
  }
 },
 "nbformat": 4,
 "nbformat_minor": 5
}
